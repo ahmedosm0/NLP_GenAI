{
 "cells": [
  {
   "cell_type": "markdown",
   "metadata": {},
   "source": [
    "# LCEL -> langchain expression language\n",
    "- use to chain component together"
   ]
  },
  {
   "cell_type": "code",
   "execution_count": 1,
   "metadata": {},
   "outputs": [],
   "source": [
    "import os\n",
    "import dotenv\n",
    "from dotenv import load_dotenv\n",
    "from groq import Groq\n",
    "\n",
    "load_dotenv()\n",
    "\n",
    "groq_api_key = os.getenv('GROQ_API_KEY')\n",
    "\n"
   ]
  },
  {
   "cell_type": "code",
   "execution_count": 5,
   "metadata": {},
   "outputs": [
    {
     "data": {
      "text/plain": [
       "ChatGroq(client=<groq.resources.chat.completions.Completions object at 0x000001B3B9913340>, async_client=<groq.resources.chat.completions.AsyncCompletions object at 0x000001B3BD5EFF70>, model_name='Gemma2-9b-it', model_kwargs={}, groq_api_key=SecretStr('**********'))"
      ]
     },
     "execution_count": 5,
     "metadata": {},
     "output_type": "execute_result"
    }
   ],
   "source": [
    "from langchain_groq import ChatGroq\n",
    "\n",
    "model = ChatGroq(model='Gemma2-9b-it', groq_api_key=groq_api_key)\n",
    "model"
   ]
  },
  {
   "cell_type": "code",
   "execution_count": 8,
   "metadata": {},
   "outputs": [
    {
     "data": {
      "text/plain": [
       "AIMessage(content='Here\\'s how to say \"Hello, how are you?\" in German:\\n\\n**Formal:**\\n\\n* **Hallo, wie geht es Ihnen?** (pronounced: hah-loh, vee gayt ess ee-nen?)\\n\\n**Informal:**\\n\\n* **Hallo, wie geht\\'s?** (pronounced: hah-loh, vee gayts?)\\n\\n\\nLet me know if you\\'d like to learn any other phrases!\\n', additional_kwargs={}, response_metadata={'token_usage': {'completion_tokens': 90, 'prompt_tokens': 19, 'total_tokens': 109, 'completion_time': 0.163636364, 'prompt_time': 0.001915655, 'queue_time': 0.256712775, 'total_time': 0.165552019}, 'model_name': 'Gemma2-9b-it', 'system_fingerprint': 'fp_10c08bf97d', 'finish_reason': 'stop', 'logprobs': None}, id='run--944c2d03-616a-453f-9eb8-55c9e8ca10c8-0', usage_metadata={'input_tokens': 19, 'output_tokens': 90, 'total_tokens': 109})"
      ]
     },
     "execution_count": 8,
     "metadata": {},
     "output_type": "execute_result"
    }
   ],
   "source": [
    "from langchain_core.messages import SystemMessage, HumanMessage\n",
    "\n",
    "messages = [\n",
    "        SystemMessage(content = 'Translate into Dautsch'),\n",
    "        HumanMessage(content = 'hello, how are you?')\n",
    "]\n",
    "res = model.invoke(messages)\n",
    "res"
   ]
  },
  {
   "cell_type": "code",
   "execution_count": 11,
   "metadata": {},
   "outputs": [
    {
     "data": {
      "text/plain": [
       "'Here\\'s how to say \"Hello, how are you?\" in German:\\n\\n**Formal:**\\n\\n* **Hallo, wie geht es Ihnen?** (pronounced: hah-loh, vee gayt ess ee-nen?)\\n\\n**Informal:**\\n\\n* **Hallo, wie geht\\'s?** (pronounced: hah-loh, vee gayts?)\\n\\n\\nLet me know if you\\'d like to learn any other phrases!\\n'"
      ]
     },
     "execution_count": 11,
     "metadata": {},
     "output_type": "execute_result"
    }
   ],
   "source": [
    "from langchain_core.output_parsers import StrOutputParser\n",
    "\n",
    "parser = StrOutputParser()\n",
    "parser.invoke(res)"
   ]
  },
  {
   "cell_type": "code",
   "execution_count": 12,
   "metadata": {},
   "outputs": [
    {
     "data": {
      "text/plain": [
       "'Here are a few ways to say \"Hello, how are you?\" in German:\\n\\n* **Hallo, wie geht es dir?** (Informal, to one person)\\n* **Hallo, wie geht es Ihnen?** (Formal, to one person)\\n* **Hallo, wie geht es euch?** (Informal, to multiple people)\\n* **Hallo, wie geht es Ihnen?** (Formal, to multiple people)\\n\\n\\nLet me know if you\\'d like to know more about German greetings!\\n'"
      ]
     },
     "execution_count": 12,
     "metadata": {},
     "output_type": "execute_result"
    }
   ],
   "source": [
    "# using LCEL - chain the components (model, StrOutputParser)\n",
    "\n",
    "chain = model|parser\n",
    "chain.invoke(messages)"
   ]
  },
  {
   "cell_type": "markdown",
   "metadata": {},
   "source": [
    "### using prompt templete"
   ]
  },
  {
   "cell_type": "code",
   "execution_count": 17,
   "metadata": {},
   "outputs": [
    {
     "data": {
      "text/plain": [
       "[SystemMessage(content='Translate it into deutsch', additional_kwargs={}, response_metadata={}),\n",
       " HumanMessage(content='hi, how are you?', additional_kwargs={}, response_metadata={})]"
      ]
     },
     "execution_count": 17,
     "metadata": {},
     "output_type": "execute_result"
    }
   ],
   "source": [
    "from langchain_core.prompts import ChatPromptTemplate\n",
    "\n",
    "prompt_template = ChatPromptTemplate([\n",
    "    ('system', 'Translate it into {language}'),\n",
    "    ('user', '{user_input}')\n",
    "])\n",
    "\n",
    "result = prompt_template.invoke({\n",
    "    'language': 'deutsch',\n",
    "    'user_input': 'hi, how are you?'\n",
    "})\n",
    "\n",
    "result.to_messages()"
   ]
  },
  {
   "cell_type": "code",
   "execution_count": 21,
   "metadata": {},
   "outputs": [
    {
     "data": {
      "text/plain": [
       "'Ich bin gut und dir? \\n'"
      ]
     },
     "execution_count": 21,
     "metadata": {},
     "output_type": "execute_result"
    }
   ],
   "source": [
    "# chaining using LCEL (prompt, model, parser)\n",
    "chain = prompt_template|model|parser\n",
    "\n",
    "chain.invoke({\n",
    "    'language':'deutsch',\n",
    "    'user_input':'iam good and you'\n",
    "})"
   ]
  },
  {
   "cell_type": "code",
   "execution_count": null,
   "metadata": {},
   "outputs": [],
   "source": []
  }
 ],
 "metadata": {
  "kernelspec": {
   "display_name": "Python 3",
   "language": "python",
   "name": "python3"
  },
  "language_info": {
   "codemirror_mode": {
    "name": "ipython",
    "version": 3
   },
   "file_extension": ".py",
   "mimetype": "text/x-python",
   "name": "python",
   "nbconvert_exporter": "python",
   "pygments_lexer": "ipython3",
   "version": "3.10.18"
  }
 },
 "nbformat": 4,
 "nbformat_minor": 2
}
